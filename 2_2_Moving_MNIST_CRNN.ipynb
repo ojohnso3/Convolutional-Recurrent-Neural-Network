{
  "nbformat": 4,
  "nbformat_minor": 0,
  "metadata": {
    "colab": {
      "name": "2.2 Moving MNIST CRNN.ipynb",
      "provenance": [],
      "collapsed_sections": [],
      "include_colab_link": true
    },
    "kernelspec": {
      "name": "python3",
      "display_name": "Python 3"
    },
    "accelerator": "GPU"
  },
  "cells": [
    {
      "cell_type": "markdown",
      "metadata": {
        "id": "view-in-github",
        "colab_type": "text"
      },
      "source": [
        "<a href=\"https://colab.research.google.com/github/ojohnso3/Convolutional-Recurrent-Neural-Network/blob/master/2_2_Moving_MNIST_CRNN.ipynb\" target=\"_parent\"><img src=\"https://colab.research.google.com/assets/colab-badge.svg\" alt=\"Open In Colab\"/></a>"
      ]
    },
    {
      "cell_type": "code",
      "metadata": {
        "id": "pvNCv88IHhZk",
        "colab_type": "code",
        "colab": {}
      },
      "source": [
        "import torch\n",
        "import torch.nn as nn\n",
        "import torch.nn.functional as F\n",
        "import torch.optim as optim\n",
        "import matplotlib.pyplot as plt\n",
        "import numpy as np\n",
        "\n",
        "from torch.utils.data import DataLoader\n",
        "from torchvision import datasets, transforms\n",
        "from torch.autograd import Variable\n",
        "\n",
        "from skimage import data, img_as_float\n",
        "from skimage.measure import compare_ssim as ssim\n",
        "\n",
        "import imageio"
      ],
      "execution_count": 0,
      "outputs": []
    },
    {
      "cell_type": "code",
      "metadata": {
        "id": "Gy07PsAdjlSr",
        "colab_type": "code",
        "colab": {}
      },
      "source": [
        "# Class that creates random moving MNIST image dataset on the fly (15 time steps x [100 batches x 1 x 64 x 64])\n",
        "class MovingMNIST(object):\n",
        "\n",
        "    def __init__(self, train, data_root, seq_len, num_digits, image_size, deterministic):\n",
        "        path = data_root\n",
        "        self.seq_len = seq_len\n",
        "        self.num_digits = num_digits  \n",
        "        self.image_size = image_size\n",
        "        self.step_length = 0.1\n",
        "        self.digit_size = 32\n",
        "        self.deterministic = deterministic\n",
        "        self.seed_is_set = False # multi threaded loading\n",
        "        self.channels = 1 \n",
        "\n",
        "        self.data = datasets.MNIST(\n",
        "            path,\n",
        "            train=train,\n",
        "            download=True,\n",
        "            transform=transforms.Compose(\n",
        "                [transforms.Resize(self.digit_size),\n",
        "                 transforms.ToTensor()]))\n",
        "\n",
        "        self.N = len(self.data) \n",
        "\n",
        "    def set_seed(self, seed):\n",
        "        if not self.seed_is_set:\n",
        "            self.seed_is_set = True\n",
        "            np.random.seed(seed)\n",
        "          \n",
        "    def __len__(self):\n",
        "        return self.N\n",
        "\n",
        "    def __getitem__(self, index):\n",
        "        self.set_seed(index)\n",
        "        image_size = self.image_size\n",
        "        digit_size = self.digit_size\n",
        "        x = np.zeros((self.seq_len,\n",
        "                      image_size, \n",
        "                      image_size, \n",
        "                      self.channels),\n",
        "                    dtype=np.float32)\n",
        "        for n in range(self.num_digits):\n",
        "            idx = np.random.randint(self.N)\n",
        "            digit, _ = self.data[idx]\n",
        "\n",
        "            sx = np.random.randint(image_size-digit_size)\n",
        "            sy = np.random.randint(image_size-digit_size)\n",
        "            dx = np.random.randint(-4, 5)\n",
        "            dy = np.random.randint(-4, 5)\n",
        "            for t in range(self.seq_len):\n",
        "                if sy < 0:\n",
        "                    sy = 0 \n",
        "                    if self.deterministic:\n",
        "                        dy = -dy\n",
        "                    else:\n",
        "                        dy = np.random.randint(1, 5)\n",
        "                        dx = np.random.randint(-4, 5)\n",
        "                elif sy >= image_size-32:\n",
        "                    sy = image_size-32-1\n",
        "                    if self.deterministic:\n",
        "                        dy = -dy\n",
        "                    else:\n",
        "                        dy = np.random.randint(-4, 0)\n",
        "                        dx = np.random.randint(-4, 5)\n",
        "                    \n",
        "                if sx < 0:\n",
        "                    sx = 0 \n",
        "                    if self.deterministic:\n",
        "                        dx = -dx\n",
        "                    else:\n",
        "                        dx = np.random.randint(1, 5)\n",
        "                        dy = np.random.randint(-4, 5)\n",
        "                elif sx >= image_size-32:\n",
        "                    sx = image_size-32-1\n",
        "                    if self.deterministic:\n",
        "                        dx = -dx\n",
        "                    else:\n",
        "                        dx = np.random.randint(-4, 0)\n",
        "                        dy = np.random.randint(-4, 5)\n",
        "\n",
        "                x[t, sy:sy+32, sx:sx+32, 0] += digit.numpy().squeeze()\n",
        "                sy += dy\n",
        "                sx += dx\n",
        "\n",
        "        x[x>1] = 1.\n",
        "        return x"
      ],
      "execution_count": 0,
      "outputs": []
    },
    {
      "cell_type": "code",
      "metadata": {
        "id": "u6-5VUcHjqSA",
        "colab_type": "code",
        "colab": {}
      },
      "source": [
        "data_root = 'data'\n",
        "n_past = 5\n",
        "n_future = 10\n",
        "n_time = n_past + n_future\n",
        "image_width = 64\n",
        "num_digits = 2\n",
        "\n",
        "# Creates two MovingMNIST objects, each representing a train/test dataset\n",
        "def load_dataset():\n",
        "    train_data = MovingMNIST(\n",
        "            train=True,\n",
        "            data_root=data_root,\n",
        "            seq_len=n_time,\n",
        "            image_size=image_width,\n",
        "            deterministic=False,\n",
        "            num_digits=num_digits)\n",
        "    test_data = MovingMNIST(\n",
        "            train=False,\n",
        "            data_root=data_root,\n",
        "            #seq_len=n_eval,\n",
        "            seq_len=n_time,\n",
        "            image_size=image_width,\n",
        "            deterministic=False,\n",
        "            num_digits=num_digits)\n",
        "    return train_data, test_data"
      ],
      "execution_count": 0,
      "outputs": []
    },
    {
      "cell_type": "code",
      "metadata": {
        "id": "yT71LdO5sZ6o",
        "colab_type": "code",
        "colab": {}
      },
      "source": [
        "# Saves two Moving MNIST dataset objects\n",
        "train_data, test_data = load_dataset()"
      ],
      "execution_count": 0,
      "outputs": []
    },
    {
      "cell_type": "code",
      "metadata": {
        "id": "oMg3CkjcsYcF",
        "colab_type": "code",
        "colab": {}
      },
      "source": [
        "data_threads = 5\n",
        "batch_size = 100\n",
        "\n",
        "\n",
        "# Creates two DataLoader objects from the Moving MNIST dataset objects\n",
        "train_loader = DataLoader(train_data,\n",
        "                          num_workers=data_threads,\n",
        "                          batch_size=batch_size,\n",
        "                          shuffle=True,\n",
        "                          drop_last=True,\n",
        "                          pin_memory=True)\n",
        "test_loader = DataLoader(test_data,\n",
        "                         num_workers=data_threads,\n",
        "                         batch_size=batch_size,\n",
        "                         shuffle=True,\n",
        "                         drop_last=True,\n",
        "                         pin_memory=True)"
      ],
      "execution_count": 0,
      "outputs": []
    },
    {
      "cell_type": "code",
      "metadata": {
        "id": "zIX_5GO7snsq",
        "colab_type": "code",
        "colab": {}
      },
      "source": [
        "# Used to change data from numpy array to tensor\n",
        "dtype = torch.cuda.FloatTensor\n",
        "\n",
        "# Changes numpy sequence arrays to tensor arrays\n",
        "def sequence_input(seq, dtype):\n",
        "    return [Variable(x.type(dtype)) for x in seq]\n",
        "\n",
        "# Fixes ordering of array by transposing dimensions\n",
        "def normalize_data(dtype, sequence):\n",
        "    sequence.transpose_(0, 1)\n",
        "    sequence.transpose_(3, 4).transpose_(2, 3)\n",
        "    \n",
        "    return sequence_input(sequence, dtype)"
      ],
      "execution_count": 0,
      "outputs": []
    },
    {
      "cell_type": "code",
      "metadata": {
        "id": "bP96yyQAsNIQ",
        "colab_type": "code",
        "colab": {}
      },
      "source": [
        "# Creates a training batch for each sequence in the training DataLoader\n",
        "def get_training_batch():\n",
        "    while True:\n",
        "        for sequence in train_loader:\n",
        "            batch = normalize_data(dtype, sequence)\n",
        "            yield batch\n",
        "\n",
        "# Creates a testing batch for each sequence in the testing DataLoader\n",
        "def get_testing_batch():\n",
        "    while True:\n",
        "        for sequence in test_loader:\n",
        "            batch = normalize_data(dtype, sequence)\n",
        "            yield batch"
      ],
      "execution_count": 0,
      "outputs": []
    },
    {
      "cell_type": "code",
      "metadata": {
        "id": "WWwboaNl0dHr",
        "colab_type": "code",
        "colab": {}
      },
      "source": [
        "# Creates two batch generator objects with each output of size 15 x [100,1,64,64]\n",
        "training_batch_generator = get_training_batch()\n",
        "testing_batch_generator = get_testing_batch()\n",
        "# Run cell twice if error text pops up"
      ],
      "execution_count": 0,
      "outputs": []
    },
    {
      "cell_type": "code",
      "metadata": {
        "colab_type": "code",
        "id": "GfP2LX9GZESS",
        "colab": {}
      },
      "source": [
        "# Switches to cuda\n",
        "device = torch.device('cuda' if torch.cuda.is_available() else 'cpu')"
      ],
      "execution_count": 0,
      "outputs": []
    },
    {
      "cell_type": "code",
      "metadata": {
        "id": "ohH9Dk0WY7Xx",
        "colab_type": "code",
        "colab": {}
      },
      "source": [
        "# Calculates and returns random sample from the distribution of latent parameters z_mu (mean) and z_logsigma (variance)\n",
        "def create_z_sample(z_mu,z_logsigma):\n",
        "    z_sigma = torch.exp(z_logsigma)\n",
        "    eps = torch.randn_like(z_sigma)\n",
        "    z_sample = eps.mul(z_sigma).add_(z_mu)\n",
        "    return z_sample"
      ],
      "execution_count": 0,
      "outputs": []
    },
    {
      "cell_type": "code",
      "metadata": {
        "id": "QVBCLVXj2STD",
        "colab_type": "code",
        "colab": {}
      },
      "source": [
        "# Class that creates convolutional recurrent neural network model\n",
        "class VAE(nn.Module):\n",
        "  def __init__(self, enc, dec, rnn, prior_rnn, present_dec):\n",
        "    super().__init__()\n",
        "    \n",
        "    self.enc = enc\n",
        "    self.dec = dec\n",
        "    self.rnn = rnn\n",
        "    self.prior_rnn = prior_rnn\n",
        "    self.present_dec = present_dec\n",
        "  \n",
        "  def forward(self, x, hidden, hidden_pred):\n",
        "    # Returns latent space output of encoder\n",
        "    emb = self.enc(x)\n",
        "        \n",
        "    # Returns outputs of latent space rnn \n",
        "    z_mu, z_logsigma, hidden = self.rnn(emb,hidden)\n",
        "    \n",
        "    z_mu_pred, z_logsigma_pred, hidden_pred = self.prior_rnn(emb,hidden_pred)\n",
        "    \n",
        "    # Returns predicted sample from predicted distribution\n",
        "    z_pred = create_z_sample(z_mu,z_logsigma)\n",
        "    \n",
        "    # Returns image output of decoder\n",
        "    predicted = self.dec(z_pred)\n",
        "    present_pred = self.present_dec(z_pred)\n",
        "        \n",
        "    return predicted, z_mu, z_logsigma, hidden, z_mu_pred, z_logsigma_pred, hidden_pred, present_pred\n",
        "\n",
        "  # Calls method in rnn that initializes hidden state of rnn and creates new weights\n",
        "  def rnn_hidden(self,batch_size):\n",
        "    return self.rnn.init_hidden(batch_size), self.prior_rnn.init_hidden(batch_size)"
      ],
      "execution_count": 0,
      "outputs": []
    },
    {
      "cell_type": "code",
      "metadata": {
        "id": "Dgv7c5EK2szg",
        "colab_type": "code",
        "colab": {}
      },
      "source": [
        "# Class that creates encoder model to transform input into latent space\n",
        "class Encoder(nn.Module):\n",
        "  def __init__(self,out_dim):\n",
        "    super().__init__()\n",
        "    self.conv1=nn.Conv2d(1,16,kernel_size=3,stride=1,padding=1,bias=False)\n",
        "    self.bn1=nn.BatchNorm2d(16)\n",
        "    self.conv2=nn.Conv2d(16,32,kernel_size=3,stride=2,padding=1,bias=False)\n",
        "    self.bn2=nn.BatchNorm2d(32)\n",
        "    self.conv3=nn.Conv2d(32,64,kernel_size=3,stride=1,padding=1,bias=False)\n",
        "    self.bn3=nn.BatchNorm2d(64)\n",
        "    self.conv4=nn.Conv2d(64,16,kernel_size=3,stride=2,padding=1,bias=False)\n",
        "    self.bn4=nn.BatchNorm2d(16)\n",
        "    \n",
        "    self.fc1 = nn.Linear(16 * 16 * 16, out_dim)\n",
        "    self.fc_bn1 = nn.BatchNorm1d(out_dim)\n",
        "    \n",
        "    \n",
        "  def forward(self, x):\n",
        "    conv1=nn.functional.relu(self.bn1(self.conv1(x)))\n",
        "    conv2=nn.functional.relu(self.bn2(self.conv2(conv1)))\n",
        "    conv3=nn.functional.relu(self.bn3(self.conv3(conv2)))\n",
        "    conv4=nn.functional.relu(self.bn4(self.conv4(conv3))).view(-1, 16 * 16 * 16)\n",
        "    fc1=nn.functional.relu(self.fc_bn1(self.fc1(conv4)))\n",
        "    # Makes encoder output 3-dimensional so that it can pass through LSTM (now [100x1x256]) \n",
        "    fc1 = fc1.unsqueeze(1) \n",
        "    return fc1\n",
        "    "
      ],
      "execution_count": 0,
      "outputs": []
    },
    {
      "cell_type": "code",
      "metadata": {
        "id": "mNy7UDoVF7T2",
        "colab_type": "code",
        "colab": {}
      },
      "source": [
        "# Class that creates rnn model to predict latent space distribution\n",
        "class RNN(nn.Module):\n",
        "  def __init__(self, in_dim, n_hidden, z_dim, n_layers=1, drop_prob=0.1):\n",
        "    super().__init__()\n",
        "    \n",
        "    # Saves input size, which is the same size as the latent space\n",
        "    self.in_dim = in_dim\n",
        "    self.n_hidden = n_hidden\n",
        "    self.n_layers = n_layers\n",
        "    self.drop_prob = drop_prob\n",
        "    self.z_dim = z_dim\n",
        "    \n",
        "    # Creates LSTM cell that takes in input size, hidden state features, and sets tensors to put batch_size first)\n",
        "    self.lstm = nn.LSTM(self.in_dim, self.n_hidden, batch_first=True)\n",
        "\n",
        "    # Creates dropout layer on outputs of LSTM\n",
        "    self.dropout = nn.Dropout(self.drop_prob)\n",
        "    \n",
        "    # Creates final Linear layers that produce outputs z_mu and z_logsigma from input of size z_dim\n",
        "    self.z_mu = nn.Linear(self.n_hidden,self.z_dim)\n",
        "    self.z_logsigma = nn.Linear(self.n_hidden, self.z_dim)\n",
        "\n",
        "    \n",
        "  def forward(self,x,hidden):\n",
        "    # Returns output ([100x1x20]) and hidden state of LSTM taking in input ([100x1x10]) and previous hidden state\n",
        "    output, hidden = self.lstm(x, hidden)   \n",
        "    # Returns output of dropout layer\n",
        "    out = self.dropout(output) \n",
        "    # Returns output of z_mu Linear layer\n",
        "    z_mu = self.z_mu(out)\n",
        "    # Returns output of z_logsigma Linear layer\n",
        "    z_logsigma = self.z_logsigma(out) \n",
        "    return z_mu, z_logsigma, hidden\n",
        "\n",
        "  \n",
        "  # Initializes hidden state of rnn and creates new weights\n",
        "  def init_hidden(self,batch_size):\n",
        "    weight = next(self.parameters()).data\n",
        "    # 1 x 100 x 20\n",
        "    hidden = (weight.new(self.n_layers, batch_size, self.n_hidden).zero_().cuda(), weight.new(self.n_layers, batch_size, self.n_hidden).zero_().cuda())\n",
        "    return hidden"
      ],
      "execution_count": 0,
      "outputs": []
    },
    {
      "cell_type": "code",
      "metadata": {
        "id": "84LKtr9EP1Rz",
        "colab_type": "code",
        "colab": {}
      },
      "source": [
        "# Class that creates decoder model to transform the predicted latent space distribution into a predicted image\n",
        "class Decoder(nn.Module):\n",
        "  def __init__(self,z_dim):\n",
        "    super().__init__()\n",
        "    self.fc2=nn.Linear(z_dim,z_dim)\n",
        "    self.fc_bn2=nn.BatchNorm1d(z_dim)\n",
        "    self.fc3=nn.Linear(z_dim,16*16*16) #changed\n",
        "    self.fc_bn3=nn.BatchNorm1d(16*16*16) #changed\n",
        "    self.dconv5=nn.ConvTranspose2d(16,64,kernel_size=3,stride=2,padding=1,output_padding=1,bias=False)\n",
        "    self.bn5=nn.BatchNorm2d(64)\n",
        "    self.dconv6=nn.ConvTranspose2d(64,32,kernel_size=3,stride=1,padding=1,bias=False)\n",
        "    self.bn6=nn.BatchNorm2d(32)\n",
        "    self.dconv7=nn.ConvTranspose2d(32,16,kernel_size=3,stride=2,padding=1,output_padding=1,bias=False)\n",
        "    self.bn7=nn.BatchNorm2d(16)\n",
        "    self.dconv8=nn.ConvTranspose2d(16,1,kernel_size=3,stride=1,padding=1,bias=False)\n",
        "    \n",
        "  def forward(self, z_sample):\n",
        "    # Makes the input 2-dimensional again so that it can pass through the deconvolutional layers (now [100x10]) \n",
        "    z_sample = z_sample.squeeze(1) \n",
        "    fc2=nn.functional.relu(self.fc_bn2(self.fc2(z_sample)))\n",
        "    fc3=nn.functional.relu(self.fc_bn3(self.fc3(fc2))).view(-1, 16, 16 , 16)\n",
        "    dconv5=nn.functional.relu(self.bn5(self.dconv5(fc3)))\n",
        "    dconv6=nn.functional.relu(self.bn6(self.dconv6(dconv5)))\n",
        "    dconv7=nn.functional.relu(self.bn7(self.dconv7(dconv6)))\n",
        "    predicted=self.dconv8(dconv7)\n",
        "        \n",
        "    return predicted"
      ],
      "execution_count": 0,
      "outputs": []
    },
    {
      "cell_type": "code",
      "metadata": {
        "id": "WJL5Oo7JM78E",
        "colab_type": "code",
        "colab": {}
      },
      "source": [
        "# Calculates KL Divergence of two probability distributions\n",
        "def kl_div(mu1, logsigma1, mu2, logsigma2):\n",
        "    sigma1 = logsigma1.exp() \n",
        "    sigma2 = logsigma2.exp() \n",
        "    kld = torch.log(sigma2/sigma1) + (sigma1**2 + (mu1 - mu2)**2)/(2*(sigma2**2)) - 1/2\n",
        "    return kld.sum()"
      ],
      "execution_count": 0,
      "outputs": []
    },
    {
      "cell_type": "code",
      "metadata": {
        "id": "CpeXz0uWeAkS",
        "colab_type": "code",
        "colab": {}
      },
      "source": [
        "# Class that creates the loss function that calculates loss of the model\n",
        "class Loss(nn.Module):\n",
        "  def __init__(self):\n",
        "    super(Loss,self).__init__()\n",
        "    self.recon_loss=nn.MSELoss(reduction=\"sum\")\n",
        "    \n",
        "  def forward(self,recon_x,x,mu,logsigma,kld,beta=.01,mu_prior=0,logsigma_prior=1):\n",
        "    recon_loss=self.recon_loss(recon_x,x)\n",
        "    if kld:\n",
        "        KLD=kl_div(mu,logsigma,mu_prior,logsigma_prior)\n",
        "        recon_loss += beta*KLD\n",
        "    \n",
        "    return recon_loss"
      ],
      "execution_count": 0,
      "outputs": []
    },
    {
      "cell_type": "code",
      "metadata": {
        "id": "uM-U2BVTew08",
        "colab_type": "code",
        "colab": {}
      },
      "source": [
        "# Size of latent space\n",
        "z_dim=50\n",
        "n_hidden=256\n",
        "\n",
        "# Initializes three parts of model, as well as the model itself\n",
        "encoder=Encoder(n_hidden)\n",
        "decoder=Decoder(z_dim)\n",
        "present_decoder=Decoder(z_dim)\n",
        "rnn = RNN(n_hidden,n_hidden,z_dim)\n",
        "prior_rnn = RNN(n_hidden,n_hidden,z_dim)\n",
        "model=VAE(encoder,decoder,rnn,prior_rnn,present_decoder).to(device)\n",
        "\n",
        "# Creates the optimizer and initializes the loss function\n",
        "optimizer=optim.Adam(model.parameters(),lr=1e-3)\n",
        "loss_=Loss()\n",
        "\n",
        "seed = 1\n",
        "\n",
        "train_losses = []\n",
        "val_losses = []"
      ],
      "execution_count": 0,
      "outputs": []
    },
    {
      "cell_type": "code",
      "metadata": {
        "id": "KSDiC-UWbucd",
        "colab_type": "code",
        "colab": {}
      },
      "source": [
        "# Displays image\n",
        "def show(image):\n",
        "    image = image.cpu()\n",
        "    np_image = image.numpy()\n",
        "    plt.imshow(np.transpose(np_image), interpolation='nearest')      "
      ],
      "execution_count": 0,
      "outputs": []
    },
    {
      "cell_type": "code",
      "metadata": {
        "id": "VC93nmqjrg-Y",
        "colab_type": "code",
        "colab": {}
      },
      "source": [
        "# Trains model for each epoch\n",
        "def train(x,epoch,train_size): \n",
        "    model.train()\n",
        "    train_loss = 0\n",
        "    # Initializes distribution priors\n",
        "    mu_prior=torch.zeros(1).to(device)\n",
        "    logsigma_prior=torch.zeros(1).to(device)\n",
        "    # Initializes hidden states\n",
        "    hidden, hidden_pred = model.rnn_hidden(batch_size)\n",
        "    model.zero_grad()\n",
        "    optimizer.zero_grad()\n",
        "    # Loops through 15 time steps\n",
        "    for time in range(0,n_time-1):\n",
        "        # Batch at time t (used for training)\n",
        "        data = x[time].to(device)\n",
        "        # Batch at time t+1 (used to calculate reconstruction loss)\n",
        "        target = x[time+1].to(device)\n",
        "        hidden = tuple([each.data for each in hidden])\n",
        "        hidden_pred = tuple([each.data for each in hidden_pred])\n",
        "        # Sets priors to outputs of previous iteration\n",
        "        if time > 0:\n",
        "            mu_prior = z_mu_pred\n",
        "            logsigma_prior = z_logsigma_pred\n",
        "        # Returns outputs of model\n",
        "        recon_batch, mu, logsigma, hidden, z_mu_pred, z_logsigma_pred, hidden_pred, pres_recon = model(data,hidden,hidden_pred)\n",
        "        # Returns reconstruction loss\n",
        "        loss = loss_(recon_batch, target, mu, logsigma, True, mu_prior=mu_prior, logsigma_prior=logsigma_prior) + loss_(pres_recon, data, mu, logsigma, False, mu_prior=mu_prior, logsigma_prior=logsigma_prior)\n",
        "        # Calculates gradient\n",
        "        loss.backward(retain_graph=True)\n",
        "        train_loss += loss.item()\n",
        "        # Optimizes parameters\n",
        "        optimizer.step()\n",
        "        \n",
        "    train_loss /= train_size\n",
        "    print('====> Epoch: {} Average loss: {:.4f}'.format(epoch, train_loss))\n",
        "    train_losses.append(train_loss)"
      ],
      "execution_count": 0,
      "outputs": []
    },
    {
      "cell_type": "code",
      "metadata": {
        "id": "PXJme352EBks",
        "colab_type": "code",
        "colab": {}
      },
      "source": [
        "# Tests model for each epoch\n",
        "def test(y,epoch,test_size):\n",
        "    model.eval()\n",
        "    test_loss = 0\n",
        "    # Initializes distribution priors\n",
        "    mu_prior=torch.zeros(1).to(device)\n",
        "    logsigma_prior=torch.zeros(1).to(device)\n",
        "    # Initializes hidden states\n",
        "    hidden, hidden_pred = model.rnn_hidden(batch_size)\n",
        "    with torch.no_grad():\n",
        "        # Loops through 15 time steps\n",
        "        for time in range(0,n_time-1):\n",
        "            # Batch at time t (used for testing)\n",
        "            data = y[time].to(device)\n",
        "            # Batch at time t+1 (used to calculate reconstruction loss)\n",
        "            target = y[time+1].to(device)\n",
        "            hidden = tuple([each.data for each in hidden])\n",
        "            hidden_pred = tuple([each.data for each in hidden_pred])\n",
        "            # Sets priors to outputs of previous iteration\n",
        "            if time > 0:\n",
        "                mu_prior = z_mu_pred\n",
        "                logsigma_prior = z_logsigma_pred\n",
        "            # Returns outputs of model\n",
        "            recon_batch, mu, logsigma, hidden, z_mu_pred, z_logsigma_pred, hidden_pred, pres_recon = model(data,hidden,hidden_pred)\n",
        "            # Returns reconstruction loss\n",
        "            loss = loss_(recon_batch, target, mu, logsigma, True, mu_prior=mu_prior, logsigma_prior=logsigma_prior) + loss_(pres_recon, data, mu, logsigma, False, mu_prior=mu_prior, logsigma_prior=logsigma_prior)\n",
        "            test_loss += loss.item()\n",
        "                \n",
        "    test_loss /= test_size\n",
        "    print('====> Test set loss: {:.4f}'.format(test_loss))\n",
        "    val_losses.append(test_loss)"
      ],
      "execution_count": 0,
      "outputs": []
    },
    {
      "cell_type": "code",
      "metadata": {
        "id": "N_jFHM22tAFL",
        "colab_type": "code",
        "colab": {}
      },
      "source": [
        "num_epochs = 20\n",
        "epoch_size = 50\n",
        "size = (n_time-1)*batch_size\n",
        "\n",
        "# Iterates through the number of epochs\n",
        "for epoch in range(num_epochs):\n",
        "    # Iterates through the steps in an epoch\n",
        "    for step in range(epoch_size):\n",
        "        # Returns a training batch for training \n",
        "        x = next(training_batch_generator)\n",
        "        train(x,epoch,size)\n",
        "        # Returns a testing batch for testing\n",
        "        y = next(testing_batch_generator)\n",
        "        test(y,epoch,size)\n",
        "    \n",
        "    # Finds a sample in the trained latent space and displays the corresponding dream image\n",
        "    with torch.no_grad():\n",
        "        sample_z = torch.randn(batch_size, z_dim).to(device) #64\n",
        "        sample = model.dec(sample_z).cpu()\n",
        "    show(sample[0,0,:,:])"
      ],
      "execution_count": 0,
      "outputs": []
    },
    {
      "cell_type": "code",
      "metadata": {
        "id": "3k49ZyoqmnMy",
        "colab_type": "code",
        "outputId": "8e4bce7a-937b-454c-d360-e0d2d8cbe578",
        "colab": {
          "base_uri": "https://localhost:8080/",
          "height": 350
        }
      },
      "source": [
        "# Plots training vs validations loss\n",
        "plt.figure(figsize=(10,5))\n",
        "\n",
        "plt.plot(train_losses[10:],label=\"Training Loss\")\n",
        "plt.plot(val_losses[10:],label=\"Validation Loss\")\n",
        "plt.title(\"Reconstruction Loss: Training vs Validation\")\n",
        "plt.xlabel(\"Number of steps\")\n",
        "plt.ylabel(\"Calculated Loss\")\n",
        "plt.legend()\n",
        "\n",
        "plt.show()"
      ],
      "execution_count": 0,
      "outputs": [
        {
          "output_type": "display_data",
          "data": {
            "image/png": "[encoded data removed]",
            "text/plain": [
              "<Figure size 720x360 with 1 Axes>"
            ]
          },
          "metadata": {
            "tags": []
          }
        }
      ]
    },
    {
      "cell_type": "code",
      "metadata": {
        "id": "ogVs7ujveRFF",
        "colab_type": "code",
        "colab": {}
      },
      "source": [
        "# Returns an image over 15 time steps from 100 possible images in the batch\n",
        "def make_data(input,batch_num):\n",
        "    data = []\n",
        "    for i in range(len(input)):\n",
        "        image = input[i][batch_num,0,:,:]\n",
        "        image = expand_dims(image)\n",
        "        data.append(image)\n",
        "    return data\n",
        "\n",
        "# Adds two dimensions to the image to make it 4D [1x1x64x64]\n",
        "def expand_dims(image):\n",
        "    image = image[None, None, :, :]\n",
        "    return image\n",
        "\n",
        "# Removes two dimensions of the image to make it 2D [64x64]\n",
        "def reduce_dims(image):\n",
        "    image = image.view(image_width,-1)\n",
        "    return image"
      ],
      "execution_count": 0,
      "outputs": []
    },
    {
      "cell_type": "code",
      "metadata": {
        "id": "m9znqRYGQM_Z",
        "colab_type": "code",
        "colab": {}
      },
      "source": [
        "# Calculates mean squared error of two images\n",
        "def mse(x1, x2):\n",
        "    err = np.sum((x1 - x2) ** 2)\n",
        "    err /= float(x1.shape[0] * x1.shape[1])\n",
        "    return err\n",
        "  \n",
        "# Compares structure of two images\n",
        "def compare_(gt, pred):\n",
        "    T = len(gt)\n",
        "    ssim_ = np.zeros((1, T))\n",
        "    mse_ = np.zeros((1, T))\n",
        "    for t in range(T):\n",
        "      gt_=np.squeeze(gt[t].cpu().numpy())\n",
        "      pred_=np.squeeze(pred[t].cpu().numpy())\n",
        "      ssim_[0,t] += ssim(gt_, pred_)\n",
        "      mse_[0,t] = mse(gt_, pred_)\n",
        "\n",
        "    return mse_, ssim_"
      ],
      "execution_count": 0,
      "outputs": []
    },
    {
      "cell_type": "code",
      "metadata": {
        "id": "0pJjkbQgwHpp",
        "colab_type": "code",
        "colab": {}
      },
      "source": [
        "# Generates a t+1 frame prediction for EACH frame at t\n",
        "def reconstruct_image(data, model):\n",
        "    image_over_time = []\n",
        "    postdicted_over_time = []\n",
        "    hidden, hidden_pred = model.rnn_hidden(1)\n",
        "    with torch.no_grad():\n",
        "        for time in range(0,len(data)):\n",
        "            image = data[time].to(device)\n",
        "            hidden = tuple([each.data for each in hidden])\n",
        "            hidden_pred = tuple([each.data for each in hidden_pred])\n",
        "            recon_image, _, _, hidden, _, _, hidden_pred, post_dicted = model(image,hidden,hidden_pred)\n",
        "            recon_image = reduce_dims(recon_image)\n",
        "            post_dicted = reduce_dims(post_dicted)\n",
        "            image_over_time.append(recon_image)\n",
        "            postdicted_over_time.append(post_dicted)\n",
        "    return image_over_time, postdicted_over_time\n",
        "      \n",
        "    \n",
        "# Inputs data to predict how Moving MNINST changes\n",
        "def reconstruct_MMNIST():\n",
        "    pred_set = next(testing_batch_generator)\n",
        "    original_images = make_data(pred_set,0)\n",
        "    image_over_time, postdicted_over_time = reconstruct_image(original_images[0:n_time-1], model)\n",
        "    # returns predicted, original, and postdicted images\n",
        "    return image_over_time, original_images, postdicted_over_time"
      ],
      "execution_count": 0,
      "outputs": []
    },
    {
      "cell_type": "code",
      "metadata": {
        "id": "OvJKsl725vvR",
        "colab_type": "code",
        "colab": {}
      },
      "source": [
        "# Generates a t+1 frame prediction for the first 5 frames at t, inputs prediction and generates new prediction for following 10 frames\n",
        "def predict_image(data, model):\n",
        "    image_over_time = []\n",
        "    postdicted_over_time = []\n",
        "    hidden, hidden_pred = model.rnn_hidden(1)\n",
        "    with torch.no_grad():\n",
        "        for time in range(0,n_future):\n",
        "            image = data[time].to(device)\n",
        "            hidden = tuple([each.data for each in hidden])\n",
        "            hidden_pred = tuple([each.data for each in hidden_pred])\n",
        "            recon_image, _, _, hidden, _, _, hidden_pred, post_dicted = model(image,hidden,hidden_pred)\n",
        "            recon_image_ = reduce_dims(recon_image)\n",
        "            post_dicted = reduce_dims(post_dicted)\n",
        "            image_over_time.append(recon_image_)\n",
        "            postdicted_over_time.append(post_dicted)\n",
        "        for time in range(0,n_past):\n",
        "            image = recon_image\n",
        "            hidden = tuple([each.data for each in hidden])\n",
        "            hidden_pred = tuple([each.data for each in hidden_pred])\n",
        "            recon_image, _, _, hidden, _, _, hidden_pred, post_dicted = model(image,hidden,hidden_pred)\n",
        "            recon_image_ = reduce_dims(recon_image)\n",
        "            post_dicted = reduce_dims(post_dicted)\n",
        "            image_over_time.append(recon_image_)\n",
        "            postdicted_over_time.append(post_dicted)\n",
        "    return image_over_time, postdicted_over_time\n",
        "      \n",
        "    \n",
        "# Inputs data to predict how Moving MNINST changes\n",
        "def predict_MMNIST():\n",
        "    pred_set = next(testing_batch_generator)\n",
        "    original_images = make_data(pred_set,0)\n",
        "    image_over_time, postdicted_over_time = predict_image(original_images[0:n_time-1], model)\n",
        "    # returns predicted, original, and postdicted images\n",
        "    return image_over_time, original_images, postdicted_over_time"
      ],
      "execution_count": 0,
      "outputs": []
    },
    {
      "cell_type": "code",
      "metadata": {
        "id": "-EMz4aNv8L12",
        "colab_type": "code",
        "colab": {}
      },
      "source": [
        "# Calculates mean squared error and structural differences in 200 predicted samples (first prediction function (reconstruct_MMNIST))\n",
        "n_samps=200\n",
        "mse_=np.zeros((n_samps,n_time-1))\n",
        "ssim_=np.zeros((n_samps,n_time-1))\n",
        "for i in range(n_samps):\n",
        "  predicted, original, _ = reconstruct_MMNIST()\n",
        "  original = original[1:]\n",
        "  mse_[i,:],ssim_[i,:] = compare_(original,predicted)"
      ],
      "execution_count": 0,
      "outputs": []
    },
    {
      "cell_type": "code",
      "metadata": {
        "id": "5nnMdzzm8Srh",
        "colab_type": "code",
        "outputId": "3ed52d94-39ab-47a6-9aa8-982db6963422",
        "colab": {
          "base_uri": "https://localhost:8080/",
          "height": 350
        }
      },
      "source": [
        "# plots Predictive SSIM for Validation (reconstruct_MMNIST)\n",
        "plt.figure(figsize=(10,5))\n",
        "\n",
        "plt.plot(np.mean(ssim_,axis=0),label=\"Validation SSIM\")\n",
        "plt.title(\"Predictive SSIM: Validation\")\n",
        "plt.xlabel(\"Time\")\n",
        "plt.ylabel(\"SSIM\")\n",
        "plt.legend()\n",
        "\n",
        "plt.show()"
      ],
      "execution_count": 0,
      "outputs": [
        {
          "output_type": "display_data",
          "data": {
            "image/png": "[encoded data removed]",
            "text/plain": [
              "<Figure size 720x360 with 1 Axes>"
            ]
          },
          "metadata": {
            "tags": []
          }
        }
      ]
    },
    {
      "cell_type": "code",
      "metadata": {
        "id": "2TNpvrFvR0g8",
        "colab_type": "code",
        "colab": {}
      },
      "source": [
        "# Calculates mean squared error and structural differences in 200 predicted samples (second prediction function (predict_MMNIST))\n",
        "n_samps=200\n",
        "mse_=np.zeros((n_samps,n_time))\n",
        "ssim_=np.zeros((n_samps,n_time))\n",
        "for i in range(n_samps):\n",
        "  predicted, original, _ = predict_MMNIST()\n",
        "  mse_[i,:],ssim_[i,:] = compare_(original,predicted)"
      ],
      "execution_count": 0,
      "outputs": []
    },
    {
      "cell_type": "code",
      "metadata": {
        "id": "vHAAs32KR64V",
        "colab_type": "code",
        "outputId": "0258e76a-4c2d-4061-f4f0-6911b442ddc1",
        "colab": {
          "base_uri": "https://localhost:8080/",
          "height": 350
        }
      },
      "source": [
        "# plots Predictive SSIM for Validation (predict_MMNIST)\n",
        "plt.figure(figsize=(10,5))\n",
        "\n",
        "plt.plot(np.mean(ssim_,axis=0),label=\"Validation SSIM\")\n",
        "plt.title(\"Predictive SSIM: Validation\")\n",
        "plt.xlabel(\"Time\")\n",
        "plt.ylabel(\"SSIM\")\n",
        "plt.legend()\n",
        "\n",
        "plt.show()"
      ],
      "execution_count": 0,
      "outputs": [
        {
          "output_type": "display_data",
          "data": {
            "image/png": "[encoded data removed]",
            "text/plain": [
              "<Figure size 720x360 with 1 Axes>"
            ]
          },
          "metadata": {
            "tags": []
          }
        }
      ]
    },
    {
      "cell_type": "code",
      "metadata": {
        "id": "WQW3IRXEQTFL",
        "colab_type": "code",
        "colab": {}
      },
      "source": [
        "# Creates gif out of set of images over time\n",
        "def create_gif(images,name):\n",
        "    gif = []\n",
        "    for image in images:\n",
        "        image = reduce_dims(image)\n",
        "        image = image.cpu().numpy()\n",
        "        gif.append(image)\n",
        "    imageio.mimsave('/content/{}.gif'.format(name), gif)"
      ],
      "execution_count": 0,
      "outputs": []
    },
    {
      "cell_type": "code",
      "metadata": {
        "id": "1bafAqevQ3Gj",
        "colab_type": "code",
        "colab": {}
      },
      "source": [
        "# reconstruct_MMNIST\n",
        "predicted1, original1, postdicted1 = reconstruct_MMNIST()\n",
        "# predict_MMNIST\n",
        "predicted2, original2, postdicted2 = predict_MMNIST()\n",
        "\n",
        "create_gif(predicted1,'Predicted1')\n",
        "create_gif(original1,'Original1')\n",
        "create_gif(postdicted1,'Postdicted1')\n",
        "\n",
        "create_gif(predicted2,'Predicted2')\n",
        "create_gif(original2,'Original2')\n",
        "create_gif(postdicted2,'Postdicted2')"
      ],
      "execution_count": 0,
      "outputs": []
    },
    {
      "cell_type": "code",
      "metadata": {
        "id": "_xLjRQYod7_W",
        "colab_type": "code",
        "colab": {}
      },
      "source": [
        "# Download MovingMNIST gif for viewing\n",
        "from google.colab import files\n",
        "files.download('Original1.gif')\n",
        "files.download('Predicted1.gif')\n",
        "files.download('Postdicted1.gif')\n",
        "files.download('Original2.gif')\n",
        "files.download('Predicted2.gif')\n",
        "files.download('Postdicted2.gif')"
      ],
      "execution_count": 0,
      "outputs": []
    },
    {
      "cell_type": "code",
      "metadata": {
        "id": "Myy7YhCJQM_2",
        "colab_type": "code",
        "outputId": "040ff4a8-2b47-4772-da94-ad52f97f1350",
        "colab": {
          "base_uri": "https://localhost:8080/",
          "height": 116
        }
      },
      "source": [
        "# Use to check gif locally in colab\n",
        "!ls /content\n",
        "\n",
        "from PIL import Image\n",
        "image1 = Image.open('Predicted1.gif')\n",
        "image2 = Image.open('Predicted2.gif')\n",
        "\n",
        "\n",
        "image2"
      ],
      "execution_count": 0,
      "outputs": [
        {
          "output_type": "stream",
          "text": [
            "data\t       Original2.gif\tPostdicted2.gif  Predicted2.gif\n",
            "Original1.gif  Postdicted1.gif\tPredicted1.gif\t sample_data\n"
          ],
          "name": "stdout"
        },
        {
          "output_type": "execute_result",
          "data": {
            "image/png": "[encoded data removed]",
            "text/plain": [
              "<PIL.GifImagePlugin.GifImageFile image mode=P size=64x64 at 0x7FB9B4A18E80>"
            ]
          },
          "metadata": {
            "tags": []
          },
          "execution_count": 66
        }
      ]
    }
  ]
}